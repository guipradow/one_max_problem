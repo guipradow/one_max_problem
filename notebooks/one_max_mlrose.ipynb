{
 "cells": [
  {
   "cell_type": "markdown",
   "metadata": {},
   "source": [
    "# Problema OneMax\n",
    "\n",
    "- Busca-se maximizar os números de \"1s\" durante a busca;\n",
    "- Inicialmente as soluções são geradas aleatoriamente por uma lista de bits 0 e 1;\n",
    "- O objetivo é gerar a solução com a maior quantidade de \"1s\"\n",
    "  - Exemplo\n",
    "  - 10010 (soma == 2)\n",
    "  - 01110 (soma == 3)\n",
    "  - 11111 (soma == 5)"
   ]
  },
  {
   "cell_type": "code",
   "execution_count": 1,
   "metadata": {},
   "outputs": [],
   "source": [
    "# Importação de bibliotecas para utilização do framework\n",
    "import six\n",
    "import sys\n",
    "sys.modules['sklearn.externals.six'] = six\n",
    "import mlrose"
   ]
  },
  {
   "cell_type": "markdown",
   "metadata": {},
   "source": [
    "## Construção da função fitness"
   ]
  },
  {
   "cell_type": "code",
   "execution_count": 2,
   "metadata": {},
   "outputs": [],
   "source": [
    "def fitness_function(solucao):\n",
    "    '''\n",
    "    Retorna a soma dos valores 1s da solução (formato de listas)\n",
    "\n",
    "    :solucao: lista com 0s e/ou 1s\n",
    "    :return: soma dos 1s presentes na lista solucao\n",
    "    '''\n",
    "    return sum(solucao)"
   ]
  },
  {
   "cell_type": "markdown",
   "metadata": {},
   "source": [
    "## Construção do problema no mlrose\n"
   ]
  },
  {
   "cell_type": "code",
   "execution_count": 3,
   "metadata": {},
   "outputs": [],
   "source": [
    "# Função fitness\n",
    "fitness = mlrose.CustomFitness(fitness_fn=fitness_function)"
   ]
  },
  {
   "cell_type": "code",
   "execution_count": 4,
   "metadata": {},
   "outputs": [],
   "source": [
    "# Gerar o problema - DiscreteOpt\n",
    "problem = mlrose.DiscreteOpt(length=5, fitness_fn=fitness, maximize=True,\n",
    "                              max_val=2)"
   ]
  },
  {
   "cell_type": "code",
   "execution_count": 5,
   "metadata": {},
   "outputs": [],
   "source": [
    "# Algoritmo Hill Climbing\n",
    "solucao_HC, best_fitness_HC = mlrose.hill_climb(problem=problem)"
   ]
  },
  {
   "cell_type": "code",
   "execution_count": 6,
   "metadata": {},
   "outputs": [
    {
     "data": {
      "text/plain": [
       "(array([1, 1, 1, 1, 1]), 5.0)"
      ]
     },
     "execution_count": 6,
     "metadata": {},
     "output_type": "execute_result"
    }
   ],
   "source": [
    "solucao_HC, best_fitness_HC"
   ]
  },
  {
   "cell_type": "code",
   "execution_count": 7,
   "metadata": {},
   "outputs": [],
   "source": [
    "# Algoritmo Simulated Annealing\n",
    "solucao_SA, best_fitness_SA = mlrose.simulated_annealing(problem=problem)"
   ]
  },
  {
   "cell_type": "code",
   "execution_count": 8,
   "metadata": {},
   "outputs": [
    {
     "data": {
      "text/plain": [
       "(array([1, 1, 1, 1, 1]), 5.0)"
      ]
     },
     "execution_count": 8,
     "metadata": {},
     "output_type": "execute_result"
    }
   ],
   "source": [
    "solucao_SA, best_fitness_SA"
   ]
  }
 ],
 "metadata": {
  "kernelspec": {
   "display_name": ".venv",
   "language": "python",
   "name": "python3"
  },
  "language_info": {
   "codemirror_mode": {
    "name": "ipython",
    "version": 3
   },
   "file_extension": ".py",
   "mimetype": "text/x-python",
   "name": "python",
   "nbconvert_exporter": "python",
   "pygments_lexer": "ipython3",
   "version": "3.10.11"
  }
 },
 "nbformat": 4,
 "nbformat_minor": 2
}
